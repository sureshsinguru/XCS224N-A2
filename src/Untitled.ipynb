{
 "cells": [
  {
   "cell_type": "code",
   "execution_count": 13,
   "id": "3f30f93b",
   "metadata": {},
   "outputs": [
    {
     "data": {
      "text/plain": [
       "array([4.53978687e-05, 4.18766684e-04, 3.85103236e-03, 3.44451957e-02,\n",
       "       2.47663801e-01, 7.52336199e-01, 9.65554804e-01, 9.96148968e-01,\n",
       "       9.99581233e-01, 9.99954602e-01])"
      ]
     },
     "execution_count": 13,
     "metadata": {},
     "output_type": "execute_result"
    }
   ],
   "source": [
    "#!/usr/bin/env python\n",
    "\n",
    "# Save parameters every a few SGD iterations as fail-safe\n",
    "SAVE_PARAMS_EVERY = 5000\n",
    "\n",
    "import glob\n",
    "import os.path as op\n",
    "import pickle\n",
    "import random\n",
    "\n",
    "import numpy as np\n",
    "\n",
    "import numpy as np\n",
    "from utils.gradcheck import gradcheck_naive\n",
    "from utils.utils import softmax\n",
    "\n",
    "############\n",
    "# WORD2VEC #\n",
    "############\n",
    "\n",
    "def sigmoid(x):\n",
    "  \"\"\"\n",
    "  Compute the sigmoid function for the input here.\n",
    "  Arguments:\n",
    "  x -- A scalar or numpy array.\n",
    "  Return:\n",
    "  s -- sigmoid(x)\n",
    "  \"\"\"\n",
    "\n",
    "  ### START CODE HERE\n",
    "  s = 1/(1+np.exp(-x))\n",
    "  ### END CODE HERE\n",
    "\n",
    "  return s\n",
    "\n",
    "z = np.linspace(-10,10,10)\n",
    "sigmoid(z)\n"
   ]
  },
  {
   "cell_type": "code",
   "execution_count": 18,
   "id": "1751dd63",
   "metadata": {},
   "outputs": [],
   "source": [
    " loss = 0.0\n",
    "    gradCenterVecs = np.zeros(centerWordVectors.shape)\n",
    "    gradOutsideVectors = np.zeros(outsideVectors.shape)\n",
    "\n",
    "    ### YOUR CODE HERE\n",
    "    center_id = word2Ind[currentCenterWord]\n",
    "    centerWordVec = centerWordVectors[center_id]\n",
    "    for word in outsideWords:\n",
    "        outside_id = word2Ind[word]\n",
    "        loss_mini, gradCenter_mini, gradOutside_mini= \\\n",
    "        word2vecLossAndGradient(centerWordVec=centerWordVec,\n",
    "            outsideWordIdx=outside_id,outsideVectors=outsideVectors,dataset=dataset)\n",
    "        loss += loss_mini\n",
    "        # print(gradCenterVecs[center_id].shape, gradCenter_mini.shape)\n",
    "        # exit()\n",
    "        gradCenterVecs[center_id] += gradCenter_mini\n",
    "        gradOutsideVectors += gradOutside_mini\n",
    "    ### END YOUR CODE\n"
   ]
  },
  {
   "cell_type": "code",
   "execution_count": null,
   "id": "f7e210f5",
   "metadata": {},
   "outputs": [],
   "source": []
  }
 ],
 "metadata": {
  "kernelspec": {
   "display_name": "Python 3",
   "language": "python",
   "name": "python3"
  },
  "language_info": {
   "codemirror_mode": {
    "name": "ipython",
    "version": 3
   },
   "file_extension": ".py",
   "mimetype": "text/x-python",
   "name": "python",
   "nbconvert_exporter": "python",
   "pygments_lexer": "ipython3",
   "version": "3.8.10"
  }
 },
 "nbformat": 4,
 "nbformat_minor": 5
}
